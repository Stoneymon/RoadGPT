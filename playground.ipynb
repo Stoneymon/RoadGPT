{
 "cells": [
  {
   "cell_type": "markdown",
   "metadata": {},
   "source": [
    "# ChatGPT Playground"
   ]
  },
  {
   "cell_type": "code",
   "execution_count": 39,
   "metadata": {},
   "outputs": [],
   "source": [
    "import openai as oai\n",
    "import dotenv\n",
    "import os"
   ]
  },
  {
   "cell_type": "markdown",
   "metadata": {},
   "source": [
    "## system message for the assistant\n",
    "\n",
    "You are a road designer. People give you descriptions of roads and you create more detailed descriptions of novel roads, where you split the road into segments. Each turn / straight is it's own segment. For every segment return the length of the segment in meters, direction (e.g. right turn),  the incline in % andthe degrees of the turn in case it is a turn. The maximum incline is 15% and the road is not allowed to be self intersecting. Return the road description in json format."
   ]
  },
  {
   "cell_type": "code",
   "execution_count": 40,
   "metadata": {},
   "outputs": [],
   "source": [
    "import json\n",
    "\n",
    "def show_json(obj):\n",
    "    display(json.loads(obj.model_dump_json()))"
   ]
  },
  {
   "cell_type": "markdown",
   "metadata": {},
   "source": [
    "# RoadGPT Assistant ID\n",
    "\n",
    "asst_fqEGbKb98OI3nwpxrLQyfNYg"
   ]
  },
  {
   "cell_type": "code",
   "execution_count": 41,
   "metadata": {},
   "outputs": [
    {
     "data": {
      "text/plain": [
       "{'id': 'asst_R7E0KPj4jvmsAQQcvYZXjtuP',\n",
       " 'created_at': 1709648649,\n",
       " 'description': None,\n",
       " 'file_ids': [],\n",
       " 'instructions': \" You are a road designer. People give you descriptions of roads and you create more detailed descriptions of novel roads, where you \\n    split the road into segments. Each turn / straight is it's own segment. For every segment return the length of the segment in meters, direction \\n    (e.g. right turn), the incline in % andthe degrees of the turn in case it is a turn. The maximum incline is 15% and the road is not allowed to be self \\n    intersecting. Return the road description in json format of road_segment1, road_segment2, etc. \",\n",
       " 'metadata': {},\n",
       " 'model': 'gpt-3.5-turbo',\n",
       " 'name': 'RoadGPT',\n",
       " 'object': 'assistant',\n",
       " 'tools': []}"
      ]
     },
     "metadata": {},
     "output_type": "display_data"
    }
   ],
   "source": [
    "# import the openai api key\n",
    "\n",
    "OPENAI_API_KEY = os.getenv('OPENAI_API_KEY')\n",
    "client = oai.OpenAI(api_key=OPENAI_API_KEY)\n",
    "\n",
    "roadgpt = client.beta.assistants.create(\n",
    "    name = \"RoadGPT\",\n",
    "    instructions = \"\"\" You are a road designer. People give you descriptions of roads and you create more detailed descriptions of novel roads, where you \n",
    "    split the road into segments. Each turn / straight is it's own segment. For every segment return the length of the segment in meters, direction \n",
    "    (e.g. right turn), the incline in % andthe degrees of the turn in case it is a turn. The maximum incline is 15% and the road is not allowed to be self \n",
    "    intersecting. Return the road description in json format of road_segment1, road_segment2, etc. \"\"\",\n",
    "    model = \"gpt-3.5-turbo\"\n",
    ")\n",
    "\n",
    "show_json(roadgpt)"
   ]
  },
  {
   "cell_type": "code",
   "execution_count": 42,
   "metadata": {},
   "outputs": [
    {
     "data": {
      "text/plain": [
       "{'id': 'thread_McKJb6KjbWDx2EukMTQjfSbR',\n",
       " 'created_at': 1709648649,\n",
       " 'metadata': {},\n",
       " 'object': 'thread'}"
      ]
     },
     "metadata": {},
     "output_type": "display_data"
    }
   ],
   "source": [
    "thread = client.beta.threads.create()\n",
    "show_json(thread)"
   ]
  },
  {
   "cell_type": "code",
   "execution_count": 43,
   "metadata": {},
   "outputs": [
    {
     "data": {
      "text/plain": [
       "{'id': 'msg_6AfX677f5vu8KOIOzm8Zrhda',\n",
       " 'assistant_id': None,\n",
       " 'content': [{'text': {'annotations': [],\n",
       "    'value': 'Create a mountain road with serpentines'},\n",
       "   'type': 'text'}],\n",
       " 'created_at': 1709648649,\n",
       " 'file_ids': [],\n",
       " 'metadata': {},\n",
       " 'object': 'thread.message',\n",
       " 'role': 'user',\n",
       " 'run_id': None,\n",
       " 'thread_id': 'thread_McKJb6KjbWDx2EukMTQjfSbR'}"
      ]
     },
     "metadata": {},
     "output_type": "display_data"
    }
   ],
   "source": [
    "message = client.beta.threads.messages.create(\n",
    "    thread_id=thread.id,\n",
    "    role=\"user\",\n",
    "    content=\"Create a mountain road with serpentines\",\n",
    ")\n",
    "\n",
    "show_json(message)"
   ]
  },
  {
   "cell_type": "code",
   "execution_count": 44,
   "metadata": {},
   "outputs": [
    {
     "data": {
      "text/plain": [
       "{'id': 'run_weSAufPqiZAszv85mGLQyrBS',\n",
       " 'assistant_id': 'asst_R7E0KPj4jvmsAQQcvYZXjtuP',\n",
       " 'cancelled_at': None,\n",
       " 'completed_at': None,\n",
       " 'created_at': 1709648650,\n",
       " 'expires_at': 1709649250,\n",
       " 'failed_at': None,\n",
       " 'file_ids': [],\n",
       " 'instructions': \" You are a road designer. People give you descriptions of roads and you create more detailed descriptions of novel roads, where you \\n    split the road into segments. Each turn / straight is it's own segment. For every segment return the length of the segment in meters, direction \\n    (e.g. right turn), the incline in % andthe degrees of the turn in case it is a turn. The maximum incline is 15% and the road is not allowed to be self \\n    intersecting. Return the road description in json format of road_segment1, road_segment2, etc. \",\n",
       " 'last_error': None,\n",
       " 'metadata': {},\n",
       " 'model': 'gpt-3.5-turbo',\n",
       " 'object': 'thread.run',\n",
       " 'required_action': None,\n",
       " 'started_at': None,\n",
       " 'status': 'queued',\n",
       " 'thread_id': 'thread_McKJb6KjbWDx2EukMTQjfSbR',\n",
       " 'tools': [],\n",
       " 'usage': None}"
      ]
     },
     "metadata": {},
     "output_type": "display_data"
    }
   ],
   "source": [
    "run = client.beta.threads.runs.create(\n",
    "    thread_id=thread.id,\n",
    "    assistant_id=roadgpt.id,\n",
    ")\n",
    "show_json(run)"
   ]
  },
  {
   "cell_type": "code",
   "execution_count": 45,
   "metadata": {},
   "outputs": [],
   "source": [
    "import time\n",
    "\n",
    "def wait_on_run(run, thread):\n",
    "    while run.status == \"queued\" or run.status == \"in_progress\":\n",
    "        run = client.beta.threads.runs.retrieve(\n",
    "            thread_id=thread.id,\n",
    "            run_id=run.id,\n",
    "        )\n",
    "        time.sleep(0.5)\n",
    "    return run"
   ]
  },
  {
   "cell_type": "code",
   "execution_count": 46,
   "metadata": {},
   "outputs": [
    {
     "data": {
      "text/plain": [
       "{'id': 'run_weSAufPqiZAszv85mGLQyrBS',\n",
       " 'assistant_id': 'asst_R7E0KPj4jvmsAQQcvYZXjtuP',\n",
       " 'cancelled_at': None,\n",
       " 'completed_at': 1709648655,\n",
       " 'created_at': 1709648650,\n",
       " 'expires_at': None,\n",
       " 'failed_at': None,\n",
       " 'file_ids': [],\n",
       " 'instructions': \" You are a road designer. People give you descriptions of roads and you create more detailed descriptions of novel roads, where you \\n    split the road into segments. Each turn / straight is it's own segment. For every segment return the length of the segment in meters, direction \\n    (e.g. right turn), the incline in % andthe degrees of the turn in case it is a turn. The maximum incline is 15% and the road is not allowed to be self \\n    intersecting. Return the road description in json format of road_segment1, road_segment2, etc. \",\n",
       " 'last_error': None,\n",
       " 'metadata': {},\n",
       " 'model': 'gpt-3.5-turbo',\n",
       " 'object': 'thread.run',\n",
       " 'required_action': None,\n",
       " 'started_at': 1709648650,\n",
       " 'status': 'completed',\n",
       " 'thread_id': 'thread_McKJb6KjbWDx2EukMTQjfSbR',\n",
       " 'tools': [],\n",
       " 'usage': {'completion_tokens': 230,\n",
       "  'prompt_tokens': 140,\n",
       "  'total_tokens': 370}}"
      ]
     },
     "metadata": {},
     "output_type": "display_data"
    }
   ],
   "source": [
    "run = wait_on_run(run, thread)\n",
    "show_json(run)"
   ]
  },
  {
   "cell_type": "code",
   "execution_count": 47,
   "metadata": {},
   "outputs": [
    {
     "data": {
      "text/plain": [
       "'{\\n    \"road_segment1\": {\\n        \"length\": 200,\\n        \"direction\": \"right turn\",\\n        \"incline\": 10,\\n        \"turn_degrees\": 90\\n    },\\n    \"road_segment2\": {\\n        \"length\": 150,\\n        \"direction\": \"straight\",\\n        \"incline\": 5\\n    },\\n    \"road_segment3\": {\\n        \"length\": 100,\\n        \"direction\": \"left turn\",\\n        \"incline\": 10,\\n        \"turn_degrees\": 120\\n    },\\n    \"road_segment4\": {\\n        \"length\": 180,\\n        \"direction\": \"right turn\",\\n        \"incline\": 8,\\n        \"turn_degrees\": 90\\n    },\\n    \"road_segment5\": {\\n        \"length\": 150,\\n        \"direction\": \"straight\",\\n        \"incline\": 3\\n    },\\n    \"road_segment6\": {\\n        \"length\": 120,\\n        \"direction\": \"left turn\",\\n        \"incline\": 12,\\n        \"turn_degrees\": 100\\n    }\\n}'"
      ]
     },
     "execution_count": 47,
     "metadata": {},
     "output_type": "execute_result"
    }
   ],
   "source": [
    "messages = client.beta.threads.messages.list(thread_id=thread.id)\n",
    "messages.data[0].content[0].text.value"
   ]
  },
  {
   "cell_type": "markdown",
   "metadata": {},
   "source": [
    "# Rewrite the code as a class"
   ]
  },
  {
   "cell_type": "code",
   "execution_count": 55,
   "metadata": {},
   "outputs": [],
   "source": [
    "class RoadGPT:\n",
    "\n",
    "    def __init__(self):\n",
    "        self.model = \"gpt-3.5-turbo\"\n",
    "        self.instructions = \"\"\" You are a road designer. People give you descriptions of roads and you create more detailed descriptions of novel roads, where you \n",
    "        split the road into segments. Each turn / straight is it's own segment. For every segment return the length of the segment in meters, direction \n",
    "        (e.g. right turn), the incline in % andthe degrees of the turn in case it is a turn. The maximum incline is 15% and the road is not allowed to be self \n",
    "        intersecting. Return the road description in json format of road_segment1, road_segment2, etc. \"\"\"\n",
    "        self.openai_api_key = os.getenv(\"OPENAI_API_KEY\")\n",
    "        self.assistant_id = os.getenv(\"ROADGPT_ID\")\n",
    "\n",
    "        if not self.assistant_id:\n",
    "            self.assistant_id = self.create_assistant(\"RoadGPT\", self.instructions, self.model)\n",
    "\n",
    "        self.threads = []\n",
    "        self.runs = []\n",
    "\n",
    "\n",
    "    def create_assistant(self, name, instructions, model):\n",
    "        roadgpt = client.beta.assistants.create(\n",
    "            name = name,\n",
    "            instructions = instructions,\n",
    "            model = model\n",
    "        )\n",
    "\n",
    "        return roadgpt.id\n",
    "    \n",
    "    \n",
    "    def create_thread(self):\n",
    "        thread = client.beta.threads.create()\n",
    "        self.threads.append(thread.id)\n",
    "\n",
    "        return thread.id\n",
    "    \n",
    "\n",
    "    def create_run(self, thread_id):\n",
    "        run = client.beta.threads.runs.create(\n",
    "            thread_id = thread_id,\n",
    "            assistant_id = self.assistant_id\n",
    "        )\n",
    "\n",
    "        self.runs.append(run)\n",
    "\n",
    "        return run\n",
    "    \n",
    "\n",
    "    def prompt(self, prompt, thread_id):\n",
    "        assert thread_id, \"You have to connect a thread.\"\n",
    "\n",
    "        message = self.client.beta.threads.message.create(\n",
    "            thread_id = thread_id,\n",
    "            role = \"user\",\n",
    "            content = prompt\n",
    "        )\n",
    "\n",
    "        \n",
    "\n",
    "\n"
   ]
  },
  {
   "cell_type": "code",
   "execution_count": 54,
   "metadata": {},
   "outputs": [
    {
     "ename": "IndexError",
     "evalue": "list index out of range",
     "output_type": "error",
     "traceback": [
      "\u001b[1;31m---------------------------------------------------------------------------\u001b[0m",
      "\u001b[1;31mIndexError\u001b[0m                                Traceback (most recent call last)",
      "Cell \u001b[1;32mIn[54], line 2\u001b[0m\n\u001b[0;32m      1\u001b[0m l \u001b[38;5;241m=\u001b[39m []\n\u001b[1;32m----> 2\u001b[0m \u001b[43ml\u001b[49m\u001b[43m[\u001b[49m\u001b[38;5;241;43m1\u001b[39;49m\u001b[43m]\u001b[49m\n",
      "\u001b[1;31mIndexError\u001b[0m: list index out of range"
     ]
    }
   ],
   "source": []
  }
 ],
 "metadata": {
  "kernelspec": {
   "display_name": ".venv",
   "language": "python",
   "name": "python3"
  },
  "language_info": {
   "codemirror_mode": {
    "name": "ipython",
    "version": 3
   },
   "file_extension": ".py",
   "mimetype": "text/x-python",
   "name": "python",
   "nbconvert_exporter": "python",
   "pygments_lexer": "ipython3",
   "version": "3.11.0"
  }
 },
 "nbformat": 4,
 "nbformat_minor": 2
}
